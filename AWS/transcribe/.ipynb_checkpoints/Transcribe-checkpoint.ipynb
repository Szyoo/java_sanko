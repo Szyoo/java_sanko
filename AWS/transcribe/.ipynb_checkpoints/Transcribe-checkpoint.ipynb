{
 "cells": [
  {
   "cell_type": "code",
   "execution_count": 9,
   "id": "55a3f502",
   "metadata": {},
   "outputs": [
    {
     "name": "stdout",
     "output_type": "stream",
     "text": [
      "bucket: 14040195-5f05-11ed-b6d9-802bf98abdc6\n"
     ]
    }
   ],
   "source": [
    "import boto3\n",
    "import json\n",
    "import pprint\n",
    "import time\n",
    "import uuid\n",
    "import urllib\n",
    "\n",
    "bucket = str(uuid.uuid1())\n",
    "\n",
    "print ('bucket:', bucket)\n",
    "\n",
    "region = 'ap-northeast-1'\n",
    "\n",
    "s3 = boto3.client('s3', region)\n",
    "\n",
    "result = s3.create_bucket(\n",
    "    Bucket=bucket,\n",
    "    CreateBucketConfiguration={'LocationConstraint' : region}\n",
    ")"
   ]
  },
  {
   "cell_type": "code",
   "execution_count": 12,
   "id": "f2581574",
   "metadata": {},
   "outputs": [],
   "source": [
    "file = 'scribe_file_in.mp3'\n",
    "key = 'input'\n",
    "s3.upload_file(file, bucket, key)"
   ]
  },
  {
   "cell_type": "code",
   "execution_count": null,
   "id": "3626e854",
   "metadata": {},
   "outputs": [],
   "source": [
    "transcribe = boto3.client('transcribe’, region)\n",
    "job = str(uuid.uuid1())\n",
    "uri = 'https://s3-' + region + '.amazonaws.com/' + bucket + '/' + key\n",
    "result = transcribe.start_transcription_job(\n",
    "TranscriptionJobName=job, Media={'MediaFileUri' : uri},\n",
    "MediaFormat='mp3', LanguageCode='en-US')\n",
    "print ('start_transcription_job:')\n",
    "pprint.pprint(result)"
   ]
  }
 ],
 "metadata": {
  "kernelspec": {
   "display_name": "Python 3 (ipykernel)",
   "language": "python",
   "name": "python3"
  },
  "language_info": {
   "codemirror_mode": {
    "name": "ipython",
    "version": 3
   },
   "file_extension": ".py",
   "mimetype": "text/x-python",
   "name": "python",
   "nbconvert_exporter": "python",
   "pygments_lexer": "ipython3",
   "version": "3.9.7"
  }
 },
 "nbformat": 4,
 "nbformat_minor": 5
}
