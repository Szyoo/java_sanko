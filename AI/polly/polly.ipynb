{
 "cells": [
  {
   "cell_type": "code",
   "execution_count": null,
   "metadata": {},
   "outputs": [],
   "source": [
    "import boto3\n",
    "import contextlib\n",
    "import os\n",
    "translate = boto3.client('translate')\n",
    "polly = boto3.client('polly')\n",
    "text_ja = '一番近い駅までの道を教えてください。'\n",
    "result = translate.translate_text(\n",
    "    Text=text_ja, SourcelanguageCode='ja', TargetLanguageCode='en')\n",
    "text_en = result['TranslatedText']\n",
    "print(text_en)\n",
    "result = polly.synthesize_speech(\n",
    "    Text=text_en, OutputFormat='mp3', Voiceld='Joanna')\n",
    "path = 'pol ly_translate.mp3'\n",
    "with contextlib.closing(result[' AudioStream']) as stream:\n",
    "    with open(path, 'wb') as file:\n",
    "        file.write(stream.read())\n",
    "if os.name == 'nt':\n",
    "    os.startfile(path)\n"
   ]
  }
 ],
 "metadata": {
  "kernelspec": {
   "display_name": "Python 3",
   "language": "python",
   "name": "python3"
  },
  "language_info": {
   "name": "python",
   "version": "3.11.0 (main, Oct 24 2022, 18:26:48) [MSC v.1933 64 bit (AMD64)]"
  },
  "orig_nbformat": 4,
  "vscode": {
   "interpreter": {
    "hash": "4647c695932239831a739609004fe2644c5de5733c7d8bc86d761d9724a499d0"
   }
  }
 },
 "nbformat": 4,
 "nbformat_minor": 2
}
