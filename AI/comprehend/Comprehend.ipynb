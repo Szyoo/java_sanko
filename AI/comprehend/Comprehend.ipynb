{
 "cells": [
  {
   "cell_type": "code",
   "execution_count": null,
   "id": "3fe74714",
   "metadata": {},
   "outputs": [],
   "source": [
    "# comp_language_dump.py\n",
    "import boto3\n",
    "import json\n",
    "\n",
    "comprehend = boto3.client('comprehend', 'ap-northeast-1')\n",
    "text = \"I'm looking forward to visiting Japan next summer.\"\n",
    "result = comprehend.detect_dominant_language(Text=text)\n",
    "print(json.dumps(result, indent=4))\n"
   ]
  },
  {
   "cell_type": "code",
   "execution_count": null,
   "id": "6845c99e",
   "metadata": {},
   "outputs": [],
   "source": [
    "# comp_language.py\n",
    "import boto3\n",
    "import csv\n",
    "import json\n",
    "\n",
    "comprehend = boto3.client('comprehend', 'ap-northeast-1')\n",
    "with open(' comp_language.csv', 'r', encoding='utf-8') as file:\n",
    "    for row in csv.reader(file):\n",
    "        result = comprehend.detect_dominant_language(Text=row[2])\n",
    "        print(row[2])\n",
    "        for language in result['Languages']:\n",
    "            print(language['LanguageCode'], language[' Score'])\n",
    "        print()"
   ]
  },
  {
   "cell_type": "code",
   "execution_count": null,
   "id": "96d73df9",
   "metadata": {},
   "outputs": [],
   "source": [
    "#comp_sentiment_dump.py\n",
    "import boto3\n",
    "import json\n",
    "\n",
    "comprehend = boto3.client('comprehend', 'ap-northeast-1')\n",
    "text = \"I'm looking forward to visiting Japan next summer.\"\n",
    "result = comprehend.detect_sentiment(Text=text, LanguageCode='en')\n",
    "print(json.dumps(result, indent=4))"
   ]
  },
  {
   "cell_type": "code",
   "execution_count": null,
   "id": "08c63e1a",
   "metadata": {},
   "outputs": [],
   "source": [
    "#comp_sentiment.py\n",
    "import boto3\n",
    "import csv\n",
    "region = 'ap-northeast-1'\n",
    "translate = boto3.client('translate', region)\n",
    "comprehend = boto3.client('comprehend', region)\n",
    "# ここから先を書く\n"
   ]
  },
  {
   "cell_type": "code",
   "execution_count": null,
   "id": "9a6fb4a1",
   "metadata": {},
   "outputs": [],
   "source": [
    "# comp_phrase_dump.py\n",
    "import boto3\n",
    "import json\n",
    "\n",
    "comprehend = boto3.client('comprehend', 'ap-northeast-1')\n",
    "text = \"I tried to use the 20% OFF coupon, \\\n",
    "but only 10% discount and I was unable to place an order.\"\n",
    "result = comprehend.detect_key_phrases(Text=text, LanguageCode='en')\n",
    "print(json.dumps(result, indent=4))\n"
   ]
  },
  {
   "cell_type": "code",
   "execution_count": null,
   "id": "b33fe55a",
   "metadata": {},
   "outputs": [],
   "source": [
    "#comp_phrase.py\n",
    "import boto3\n",
    "comprehend = boto3.client('comprehend', 'ap-northeast-1')\n",
    "#ここから先を書く\n",
    "with open(' comp_phrase.txt', 'r', encoding='utf-8') as file:\n",
    "    result = comprehend.detect_key_phrases(\n",
    "        Text=file.read(), LanguageCode='en')\n",
    "    report = {}\n",
    "    for phrase in result[ 'KeyPhrases']:\n",
    "        text, score = phrase[ 'Text'], phrase[ 'Score']\n",
    "        report[text] ='{:<018} {}'.format(score, text)\n",
    "    for line in sorted(report.values(), reverse=True):\n",
    "        print(line)"
   ]
  },
  {
   "cell_type": "code",
   "execution_count": null,
   "id": "c910d65b",
   "metadata": {},
   "outputs": [],
   "source": [
    "#comp_entity_dump.py\n",
    "import boto3\n",
    "import json\n",
    "\n",
    "comprehend = boto3.client('comprehend', 'ap-northeast-1')\n",
    "text = \"I'm looking forward to visiting Japan next summer.\"\n",
    "result = comprehend.detect_entities(Text=text, LanguageCode='en')\n",
    "print(json.dumps(result, indent=4))"
   ]
  },
  {
   "cell_type": "code",
   "execution_count": null,
   "id": "f7de3c4f",
   "metadata": {},
   "outputs": [],
   "source": [
    "#comp_entity.py"
   ]
  }
 ],
 "metadata": {
  "kernelspec": {
   "display_name": "Python 3",
   "language": "python",
   "name": "python3"
  },
  "language_info": {
   "codemirror_mode": {
    "name": "ipython",
    "version": 3
   },
   "file_extension": ".py",
   "mimetype": "text/x-python",
   "name": "python",
   "nbconvert_exporter": "python",
   "pygments_lexer": "ipython3",
   "version": "3.11.0 (main, Oct 24 2022, 18:26:48) [MSC v.1933 64 bit (AMD64)]"
  },
  "vscode": {
   "interpreter": {
    "hash": "4647c695932239831a739609004fe2644c5de5733c7d8bc86d761d9724a499d0"
   }
  }
 },
 "nbformat": 4,
 "nbformat_minor": 5
}
