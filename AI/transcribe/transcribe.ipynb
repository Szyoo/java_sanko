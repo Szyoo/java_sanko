{
 "cells": [
  {
   "cell_type": "code",
   "execution_count": null,
   "metadata": {},
   "outputs": [],
   "source": [
    "import boto3\n",
    "import json\n",
    "import pprint\n",
    "import time\n",
    "import uuid\n",
    "import urllib\n",
    "\n",
    "bucket = str(uuid.uuid1())\n",
    "print('bucket:', bucket)\n",
    "region = 'ap-northeast-1'\n",
    "s3 = boto3.client('s3', region)\n",
    "result = s3.create_bucket(\n",
    "    Bucket=bucket,\n",
    "    CreateBucketConfiguration={'LocationConstraint': region})\n"
   ]
  },
  {
   "cell_type": "code",
   "execution_count": null,
   "metadata": {},
   "outputs": [],
   "source": [
    "file = 'scribe_file_in.mp3'\n",
    "key = 'input'\n",
    "s3.upload_file(file, bucket, key)"
   ]
  },
  {
   "cell_type": "code",
   "execution_count": null,
   "metadata": {},
   "outputs": [],
   "source": [
    "transcribe = boto3.client('transcribe', region)\n",
    "job = str(uuid.uuid1())\n",
    "uri = 'https://s3-' + region + '.amazonaws.com/' + bucket + '/' + key\n",
    "result = transcribe.start_transcription_job(\n",
    "    TranscriptionJobName=job, Media={'MediaFileUri': uri},\n",
    "    MediaFormat='mp3', LanguageCode='en-US')\n",
    "print('start_transcription_job:')\n",
    "pprint.pprint(result)\n"
   ]
  },
  {
   "cell_type": "code",
   "execution_count": null,
   "metadata": {},
   "outputs": [],
   "source": [
    "start = time.time()\n",
    "while True:\n",
    "    result = transcribe.get_transcription_job(TranscriptionJobName=job)\n",
    "    status = result['Transcriptiondob']['TranscriptionJobStatus']\n",
    "    if status != 'IN_PROGRESS':\n",
    "        break\n",
    "    time.sleep(10)\n",
    "    print('time:', time.time()-start)\n",
    "print('get_transcription_job:')\n",
    "pprint.pprint(result)\n"
   ]
  },
  {
   "cell_type": "code",
   "execution_count": null,
   "metadata": {},
   "outputs": [],
   "source": [
    "uri = result['Transcriptiondob']['Transcript']['TranscriptFileUri']\n",
    "print('uri:', uri)\n",
    "with urllib.request.urlopen(uri) as file_in:\n",
    "    transcripts = json.load(file_in)\n",
    "with open('scribe_file_out.json', 'w', encoding='utf-8') as file_out:\n",
    "    json.dump(transcripts, file_out, indent=4)\n"
   ]
  },
  {
   "cell_type": "code",
   "execution_count": null,
   "metadata": {},
   "outputs": [],
   "source": [
    "print('transcript:')\n",
    "for transcript in transcripts['results']['transcripts']:\n",
    "    print(transcript['transcript'])\n"
   ]
  },
  {
   "cell_type": "code",
   "execution_count": null,
   "metadata": {},
   "outputs": [],
   "source": [
    "transcribe.delete_transcription_job(TranscriptionJobName= job)\n",
    "s3.delete_object(Bucket=bucket, Key=key)\n",
    "s3.delete_bucket(Bucket=bucket)"
   ]
  }
 ],
 "metadata": {
  "language_info": {
   "name": "python"
  },
  "orig_nbformat": 4
 },
 "nbformat": 4,
 "nbformat_minor": 2
}
