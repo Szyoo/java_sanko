{
 "cells": [
  {
   "cell_type": "markdown",
   "metadata": {
    "id": "hiibfIAgya-I"
   },
   "source": [
    "# 補助資料"
   ]
  },
  {
   "cell_type": "markdown",
   "metadata": {
    "id": "n_1SAtityhSA"
   },
   "source": [
    "このファイルでは、今回の予測結果をグラフで可視化してみます。"
   ]
  },
  {
   "cell_type": "code",
   "execution_count": null,
   "metadata": {
    "id": "HxVrleLeySJa"
   },
   "outputs": [],
   "source": [
    "#何をしているかコメントで記載\n",
    "import boto3\n",
    "import sys\n",
    "\n",
    "forecast = boto3.client('forecast', 'ap-northeast-1')\n",
    "forecast_query = boto3.client('forecastquery', 'ap-northeast-1')\n",
    "\n",
    "for fc in forecast.list_forecasts()['Forecasts']:\n",
    "    if fc['ForecastName'] == 'MyForecast':\n",
    "        break\n",
    "forecast_arn = fc['ForecastArn']\n",
    "\n",
    "city = 'Tokyo' #'Osaka'\n",
    "result = forecast_query.query_forecast(\n",
    "    ForecastArn=forecast_arn,\n",
    "    Filters={'item_id': city})\n"
   ]
  },
  {
   "cell_type": "code",
   "execution_count": null,
   "metadata": {
    "id": "uXTr8i_5ySJg",
    "outputId": "09f933fc-e88a-4261-9379-5f4b920b7b02"
   },
   "outputs": [],
   "source": [
    "# pandasをpdとしてインポート\n",
    "import pandas as pd\n",
    "\n",
    "# 実測値のcsvをデータフレームとして読み込み\n",
    "df = pd.read_csv(f'temperature_2019_{city}.csv')\n",
    "\n",
    "# 日付をdatetime型に変換\n",
    "df['date'] = pd.to_datetime(df['date'])\n",
    "\n",
    "# 日付をインデックスに指定\n",
    "df.set_index('date', inplace=True)\n",
    "\n",
    "# データフレームの表示\n",
    "print(f\"{city}'s Temperature in 2019\")\n",
    "df"
   ]
  },
  {
   "cell_type": "code",
   "execution_count": null,
   "metadata": {
    "id": "Dg6DZyXVySJi"
   },
   "outputs": [],
   "source": [
    "#何をしているかコメントで記載\n",
    "p10 = result['Forecast']['Predictions']['p10']\n",
    "p50 = result['Forecast']['Predictions']['p50']\n",
    "p90 = result['Forecast']['Predictions']['p90']"
   ]
  },
  {
   "cell_type": "code",
   "execution_count": null,
   "metadata": {
    "id": "hdRiddUDySJj"
   },
   "outputs": [],
   "source": [
    "#何をしているかコメントで記載\n",
    "p10_temp =  [x['Value'] for x in p10]\n",
    "p50_temp =  [x['Value'] for x in p50]\n",
    "p90_temp =  [x['Value'] for x in p90]"
   ]
  },
  {
   "cell_type": "code",
   "execution_count": null,
   "metadata": {
    "id": "Hbo51LF6ySJj",
    "outputId": "2139cf90-56ec-4709-fd4a-a99878614750"
   },
   "outputs": [],
   "source": [
    "#何をしているかコメントで記載\n",
    "df['p10'] = p10_temp\n",
    "df['p50'] = p50_temp\n",
    "df['p90'] = p90_temp\n",
    "df"
   ]
  },
  {
   "cell_type": "code",
   "execution_count": null,
   "metadata": {
    "id": "8rbeIl03ySJk",
    "outputId": "4b76c77f-9240-461c-bf9a-862b8fc022ab"
   },
   "outputs": [],
   "source": [
    "# matplotlib.pyplotをpltとしてインポート\n",
    "import matplotlib.pyplot as plt\n",
    "\n",
    "# seabornをsnsとしてインポート\n",
    "#未習知識のため、以下ではseabornを使わない方法も記載\n",
    "import seaborn as sns\n",
    "\n",
    "\n",
    "# figサイズ（表示サイズ）を指定\n",
    "plt.figure(figsize=(15,5))\n",
    "\n",
    "# 描画\n",
    "sns.lineplot(data=df, markers=True)\n",
    "#seabornを利用しない場合は以下のコード\n",
    "#plt.plot(df, marker='.', linestyle='--')\n",
    "\n",
    "# タイトルの設定\n",
    "plt.title(f\"{city}'s Temperature in 2019\")\n",
    "\n",
    "# 表示\n",
    "plt.show()"
   ]
  },
  {
   "cell_type": "markdown",
   "metadata": {
    "id": "5-p0CGqSyXnX"
   },
   "source": [
    "東京みらい AI＆IT 専門学校"
   ]
  }
 ],
 "metadata": {
  "colab": {
   "collapsed_sections": [],
   "name": "補助資料.ipynb",
   "provenance": []
  },
  "interpreter": {
   "hash": "aee8b7b246df8f9039afb4144a1f6fd8d2ca17a180786b69acc140d282b71a49"
  },
  "kernelspec": {
   "display_name": "Python 3 (ipykernel)",
   "language": "python",
   "name": "python3"
  },
  "language_info": {
   "codemirror_mode": {
    "name": "ipython",
    "version": 3
   },
   "file_extension": ".py",
   "mimetype": "text/x-python",
   "name": "python",
   "nbconvert_exporter": "python",
   "pygments_lexer": "ipython3",
   "version": "3.9.7"
  }
 },
 "nbformat": 4,
 "nbformat_minor": 1
}
